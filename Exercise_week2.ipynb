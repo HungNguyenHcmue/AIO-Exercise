{
  "nbformat": 4,
  "nbformat_minor": 0,
  "metadata": {
    "colab": {
      "provenance": []
    },
    "kernelspec": {
      "name": "python3",
      "display_name": "Python 3"
    },
    "language_info": {
      "name": "python"
    }
  },
  "cells": [
    {
      "cell_type": "markdown",
      "source": [
        "# Question 1"
      ],
      "metadata": {
        "id": "p2OHwp46wDfx"
      }
    },
    {
      "cell_type": "code",
      "source": [
        "num_list = [3, 4, 5, 1, -44 , 5 ,10, 12 ,33, 1]\n",
        "k = 3\n",
        "list_output = []\n",
        "for i in range(len(num_list)):\n",
        "  if i + k > len(num_list): break\n",
        "  else: list_output.append(max(num_list[i: i + k]))\n",
        "print(list_output)"
      ],
      "metadata": {
        "id": "l5HpI21Ftc0t",
        "colab": {
          "base_uri": "https://localhost:8080/"
        },
        "outputId": "d6d64add-7113-45f7-fa2f-9563332fa588"
      },
      "execution_count": null,
      "outputs": [
        {
          "output_type": "stream",
          "name": "stdout",
          "text": [
            "[5, 5, 5, 5, 10, 12, 33, 33]\n"
          ]
        }
      ]
    },
    {
      "cell_type": "markdown",
      "source": [
        "# Question 2\n"
      ],
      "metadata": {
        "id": "S9Up_MtEL0Yd"
      }
    },
    {
      "cell_type": "code",
      "source": [
        "def count_chars(string):\n",
        "  dict_count_char = {}\n",
        "  for char in string:\n",
        "    if char in dict_count_char:\n",
        "      dict_count_char[char] += 1\n",
        "    else:\n",
        "      dict_count_char[char] = 1\n",
        "  dict_count_char = dict(sorted(dict_count_char.items()))\n",
        "  return dict_count_char\n",
        "\n",
        "if __name__ == '__main__':\n",
        "  string = 'Happiness'\n",
        "  print(count_chars(string))\n",
        "\n",
        "  string = 'smiles'\n",
        "  print(count_chars(string))"
      ],
      "metadata": {
        "id": "FvIsW6Qftc6Q",
        "colab": {
          "base_uri": "https://localhost:8080/"
        },
        "outputId": "cebfc488-aea7-4188-d37b-5b376c038c3a"
      },
      "execution_count": null,
      "outputs": [
        {
          "output_type": "stream",
          "name": "stdout",
          "text": [
            "{'H': 1, 'a': 1, 'e': 1, 'i': 1, 'n': 1, 'p': 2, 's': 2}\n",
            "{'e': 1, 'i': 1, 'l': 1, 'm': 1, 's': 2}\n"
          ]
        }
      ]
    },
    {
      "cell_type": "markdown",
      "source": [
        "# Question 3\n"
      ],
      "metadata": {
        "id": "3kHDxYVpLzwo"
      }
    },
    {
      "cell_type": "code",
      "source": [
        "!gdown https://drive.google.com/uc?id=1IBScGdW2xlNsc9v5zSAya548kNgiOrko"
      ],
      "metadata": {
        "colab": {
          "base_uri": "https://localhost:8080/"
        },
        "id": "X-RW89cDmUXW",
        "outputId": "3e337f45-571c-4ae2-97a0-aa4c32c06225"
      },
      "execution_count": null,
      "outputs": [
        {
          "output_type": "stream",
          "name": "stdout",
          "text": [
            "Downloading...\n",
            "From: https://drive.google.com/uc?id=1IBScGdW2xlNsc9v5zSAya548kNgiOrko\n",
            "To: /content/P1_data.txt\n",
            "\r  0% 0.00/747 [00:00<?, ?B/s]\r100% 747/747 [00:00<00:00, 2.14MB/s]\n"
          ]
        }
      ]
    },
    {
      "cell_type": "code",
      "source": [
        "def standardized(data):\n",
        "  data = data.replace('\\n', ' ')\n",
        "  data = data.lower()\n",
        "  data = data.split()\n",
        "  return data\n",
        "\n",
        "def word_count(file_path):\n",
        "  dict_word = {}\n",
        "  with open(file_path, \"r\") as a_file:\n",
        "    data = a_file.read()\n",
        "  data = standardized(data)\n",
        "\n",
        "  for word in data:\n",
        "    if word in dict_word:\n",
        "      dict_word[word] += 1\n",
        "    else:\n",
        "      dict_word[word] = 1\n",
        "  dict_word = dict(sorted(dict_word.items()))\n",
        "  print(dict_word)\n",
        "\n",
        "if __name__ == \"__main__\":\n",
        "  file_path = '/content/P1_data.txt'\n",
        "  word_count(file_path )"
      ],
      "metadata": {
        "id": "yAych7BNtc9O",
        "colab": {
          "base_uri": "https://localhost:8080/"
        },
        "outputId": "6bcba967-0a28-4d25-a7cf-4959a57399c0"
      },
      "execution_count": null,
      "outputs": [
        {
          "output_type": "stream",
          "name": "stdout",
          "text": [
            "{'a': 7, 'again': 1, 'and': 1, 'are': 1, 'at': 1, 'be': 1, 'become': 2, 'bricks': 1, 'busy': 1, 'but': 1, 'came': 1, 'can': 3, 'cannot': 1, 'change': 1, 'comes': 2, 'conquers': 1, 'courage': 1, 'day': 1, 'different': 1, 'employed': 1, 'enough': 1, 'everything': 1, 'firm': 1, 'for': 3, 'foundation': 1, 'from': 1, 'get': 2, 'have': 1, 'he': 1, 'help': 1, 'him': 1, 'himself': 1, 'his': 2, 'if': 1, 'in': 4, 'is': 3, 'it': 2, 'just': 2, 'kind': 1, 'lay': 1, 'life': 2, 'looking': 1, 'majority': 1, 'makes': 1, 'man': 6, 'mightiest': 1, 'mistakes': 1, 'morning': 1, 'not': 1, 'of': 4, 'one': 4, 'opportunity': 1, 'other': 1, 'others': 1, 'people': 1, 'positive': 1, 'problems': 1, 'profit': 1, 'rather': 1, 'ready': 1, 'secret': 1, 'small': 1, 'solve': 1, 'success': 3, 'successful': 2, 'the': 5, 'them': 1, 'they': 1, 'thinking': 1, 'those': 1, 'thought': 1, 'thrown': 1, 'to': 3, 'too': 1, 'try': 2, 'up': 1, 'usually': 1, 'value': 1, 'want': 2, 'warrior': 1, 'way': 1, 'we': 3, 'what': 1, 'when': 2, 'who': 3, 'whole': 1, 'will': 2, 'with': 4, 'you': 3, 'your': 1}\n"
          ]
        }
      ]
    },
    {
      "cell_type": "markdown",
      "source": [
        "# Question 4"
      ],
      "metadata": {
        "id": "WndxUnO0r2tE"
      }
    },
    {
      "cell_type": "code",
      "source": [
        "def levenshtein_distance(a, b):\n",
        "    len_a = len(a)\n",
        "    len_b = len(b)\n",
        "    matrix = [[0 for _ in range(len_b + 1)] for _ in range(len_a + 1)]\n",
        "\n",
        "    for i in range(len_a + 1):\n",
        "        matrix[i][0] = i\n",
        "    for j in range(len_b + 1):\n",
        "        matrix[0][j] = j\n",
        "\n",
        "    for i in range(1, len_a + 1):\n",
        "        for j in range(1, len_b + 1):\n",
        "            if a[i - 1] == b[j - 1]:\n",
        "                matrix[i][j] = matrix[i - 1][j - 1]\n",
        "            else:\n",
        "                matrix[i][j] = min(matrix[i - 1][j] + 1,\n",
        "                               matrix[i][j - 1] + 1,\n",
        "                               matrix[i - 1][j - 1] + 1)\n",
        "    return matrix[len_a][len_b]\n",
        "\n",
        "if __name__ == \"__main__\":\n",
        "  a = input(\"Nhập chuổi 1:\")\n",
        "  b = input(\"Nhập chuổi 2:\")\n",
        "  print(f\"Khoảng cách Levenshtein: {levenshtein_distance(a, b)}\")"
      ],
      "metadata": {
        "id": "6PxGIQ_3tdCw",
        "colab": {
          "base_uri": "https://localhost:8080/"
        },
        "outputId": "d0ed1042-bf5d-4fd1-aee5-be683f4681de"
      },
      "execution_count": 4,
      "outputs": [
        {
          "output_type": "stream",
          "name": "stdout",
          "text": [
            "Nhập chuổi 1:kitten\n",
            "Nhập chuổi 2:sitting\n",
            "Khoảng cách Levenshtein: 3\n"
          ]
        }
      ]
    }
  ]
}