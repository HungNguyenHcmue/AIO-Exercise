{
  "nbformat": 4,
  "nbformat_minor": 0,
  "metadata": {
    "colab": {
      "provenance": [],
      "collapsed_sections": [
        "ObFGO65blZgY",
        "eJiyYpwXrni7"
      ]
    },
    "kernelspec": {
      "name": "python3",
      "display_name": "Python 3"
    },
    "language_info": {
      "name": "python"
    }
  },
  "cells": [
    {
      "cell_type": "markdown",
      "source": [
        "# Question 1"
      ],
      "metadata": {
        "id": "SSNrl7BsQExo"
      }
    },
    {
      "cell_type": "code",
      "execution_count": null,
      "metadata": {
        "id": "dojM0ngAe1wg"
      },
      "outputs": [],
      "source": [
        "def evaluate_classification(tp, fp, fn):\n",
        "  if type(tp) != int:\n",
        "    print('tp must be int')\n",
        "    return\n",
        "  elif type(fp) != int:\n",
        "    print('fp must be int')\n",
        "    return\n",
        "  elif type(fn) != int:\n",
        "    print('fn must be int')\n",
        "    return\n",
        "  elif tp <= 0 and fp <= 0 and fn <= 0:\n",
        "    print('tp and fp and fn must be greater than zero')\n",
        "    return\n",
        "  else:\n",
        "    precision = tp / (tp + fp)\n",
        "    recall = tp / (tp + fn)\n",
        "    F1_score = 2 * precision * recall / (precision + recall)\n",
        "\n",
        "    print(f'precision is {precision}')\n",
        "    print(f'recall is {recall}')\n",
        "    print(f'F1_score is {F1_score}')"
      ]
    },
    {
      "cell_type": "markdown",
      "source": [
        "## Testcase"
      ],
      "metadata": {
        "id": "ObFGO65blZgY"
      }
    },
    {
      "cell_type": "code",
      "source": [
        "evaluate_classification(2, 3, 4)"
      ],
      "metadata": {
        "id": "gBpLwOoMe_Pp",
        "colab": {
          "base_uri": "https://localhost:8080/"
        },
        "outputId": "2b7ae360-4f93-41ea-e2ad-a95663f0d9d2"
      },
      "execution_count": null,
      "outputs": [
        {
          "output_type": "stream",
          "name": "stdout",
          "text": [
            "precision is 0.4\n",
            "recall is 0.3333333333333333\n",
            "F1_score is 0.3636363636363636\n"
          ]
        }
      ]
    },
    {
      "cell_type": "code",
      "source": [
        "evaluate_classification('a', 3, 4)"
      ],
      "metadata": {
        "id": "06wOvGVKe_So",
        "colab": {
          "base_uri": "https://localhost:8080/"
        },
        "outputId": "e625d4f3-a383-4321-d615-a3608a70be7d"
      },
      "execution_count": null,
      "outputs": [
        {
          "output_type": "stream",
          "name": "stdout",
          "text": [
            "tp must be int\n"
          ]
        }
      ]
    },
    {
      "cell_type": "code",
      "source": [
        "evaluate_classification(2, 'a', 4)"
      ],
      "metadata": {
        "id": "wkzXL8dFe_Vg",
        "colab": {
          "base_uri": "https://localhost:8080/"
        },
        "outputId": "11a320af-da06-4ab9-e363-3673de2b03c2"
      },
      "execution_count": null,
      "outputs": [
        {
          "output_type": "stream",
          "name": "stdout",
          "text": [
            "fp must be int\n"
          ]
        }
      ]
    },
    {
      "cell_type": "code",
      "source": [
        "evaluate_classification(2, 3, 'a')"
      ],
      "metadata": {
        "id": "xqCfNJUIe_YY",
        "colab": {
          "base_uri": "https://localhost:8080/"
        },
        "outputId": "528ae8ca-99ba-495c-abe0-c5df80d904eb"
      },
      "execution_count": null,
      "outputs": [
        {
          "output_type": "stream",
          "name": "stdout",
          "text": [
            "fn must be int\n"
          ]
        }
      ]
    },
    {
      "cell_type": "code",
      "source": [
        "evaluate_classification(2, 3, 0)"
      ],
      "metadata": {
        "id": "WBwgR7Hee_bd",
        "colab": {
          "base_uri": "https://localhost:8080/"
        },
        "outputId": "0e1faefe-3c3d-47ba-bef2-9bee93624f41"
      },
      "execution_count": null,
      "outputs": [
        {
          "output_type": "stream",
          "name": "stdout",
          "text": [
            "precision is 0.4\n",
            "recall is 1.0\n",
            "F1_score is 0.5714285714285715\n"
          ]
        }
      ]
    },
    {
      "cell_type": "code",
      "source": [
        "evaluate_classification(2.1, 3, 0)"
      ],
      "metadata": {
        "id": "xvWWG90ke_eV",
        "colab": {
          "base_uri": "https://localhost:8080/"
        },
        "outputId": "e3d41255-c364-4286-8b63-6b5117657235"
      },
      "execution_count": null,
      "outputs": [
        {
          "output_type": "stream",
          "name": "stdout",
          "text": [
            "tp must be int\n"
          ]
        }
      ]
    },
    {
      "cell_type": "markdown",
      "source": [
        "# Question 2"
      ],
      "metadata": {
        "id": "7xUX4n-ZmDXr"
      }
    },
    {
      "cell_type": "code",
      "source": [
        "import math"
      ],
      "metadata": {
        "id": "bHsyZ42KnWzR"
      },
      "execution_count": null,
      "outputs": []
    },
    {
      "cell_type": "code",
      "source": [
        "def is_number(x):\n",
        " try:\n",
        "  float(x)\n",
        " except ValueError:\n",
        "  return False\n",
        " return True\n",
        "\n",
        "def sigmoid(x):\n",
        "  return 1 / (1 + math.e ** (-x))\n",
        "\n",
        "def relu(x):\n",
        "  if x <= 0: return 0\n",
        "  return x\n",
        "\n",
        "def elu(x, alpha = 0.01):\n",
        "  if x <= 0: return alpha * (math.e ** x - 1)\n",
        "  return x\n",
        "\n",
        "def compute_activation_function(x, function_name):\n",
        "  if not is_number(x):\n",
        "    print('x must be a number')\n",
        "    return\n",
        "  elif function_name != 'sigmoid' and function_name != 'relu' and function_name != 'elu':\n",
        "    print(f'{function_name} is not supportted')\n",
        "    return\n",
        "  else:\n",
        "    x = float(x)\n",
        "    result = 0\n",
        "    if function_name == 'sigmoid': result = sigmoid(x)\n",
        "    elif function_name == 'relu': result = relu(x)\n",
        "    else: result = elu(x)\n",
        "    print(f'f({x}) = {result}')"
      ],
      "metadata": {
        "id": "_grjbWhpe_hH"
      },
      "execution_count": null,
      "outputs": []
    },
    {
      "cell_type": "markdown",
      "source": [
        "## Testcase"
      ],
      "metadata": {
        "id": "eJiyYpwXrni7"
      }
    },
    {
      "cell_type": "code",
      "source": [
        "compute_activation_function(x = 1.5, function_name = 'sigmoid')"
      ],
      "metadata": {
        "id": "ljgafs3Ce_ki",
        "colab": {
          "base_uri": "https://localhost:8080/"
        },
        "outputId": "419b24df-b0ac-4d1a-c728-aa3c77a4cf2c"
      },
      "execution_count": null,
      "outputs": [
        {
          "output_type": "stream",
          "name": "stdout",
          "text": [
            "f(1.5) = 0.8175744761936437\n"
          ]
        }
      ]
    },
    {
      "cell_type": "code",
      "source": [
        "compute_activation_function(x = 'abc', function_name = 'sigmoid')"
      ],
      "metadata": {
        "colab": {
          "base_uri": "https://localhost:8080/"
        },
        "id": "F_GRvy4DrkIo",
        "outputId": "a1c990f8-5d77-435c-808e-2e37d25349f5"
      },
      "execution_count": null,
      "outputs": [
        {
          "output_type": "stream",
          "name": "stdout",
          "text": [
            "x must be a number\n"
          ]
        }
      ]
    },
    {
      "cell_type": "code",
      "source": [
        "compute_activation_function(x = 1.5, function_name = 'belu')"
      ],
      "metadata": {
        "colab": {
          "base_uri": "https://localhost:8080/"
        },
        "id": "cK9t2EfUrkLf",
        "outputId": "b5b156a0-28cb-4123-de61-a89e7868a4f9"
      },
      "execution_count": null,
      "outputs": [
        {
          "output_type": "stream",
          "name": "stdout",
          "text": [
            "belu is not supportted\n"
          ]
        }
      ]
    },
    {
      "cell_type": "markdown",
      "source": [
        "# Question 3"
      ],
      "metadata": {
        "id": "fjzx1Pt5smUb"
      }
    },
    {
      "cell_type": "code",
      "source": [
        "import random"
      ],
      "metadata": {
        "id": "napjYeaK03M5"
      },
      "execution_count": null,
      "outputs": []
    },
    {
      "cell_type": "code",
      "source": [
        "def compute_loss(num_samples, loss_name):\n",
        "  if num_samples.isnumeric() == False:\n",
        "    print('number of samples must be an integer number')\n",
        "    return\n",
        "  else:\n",
        "    num_samples = int(num_samples)\n",
        "    result = 0\n",
        "    for i in range(num_samples):\n",
        "      pred = random.uniform(0, 10)\n",
        "      target = random.uniform(0, 10)\n",
        "      if loss_name == 'MSE' or loss_name == 'RMSE':\n",
        "        loss = (pred - target) ** 2\n",
        "      elif loss_name == 'MAE':\n",
        "        loss = math.fabs(pred - target)\n",
        "      print(f'loss name : {loss_name}, sample: {i}, pred: {pred}, target: {target}, loss: {loss}')\n",
        "      result += loss\n",
        "\n",
        "    if loss_name == 'RMSE': result = math.sqrt(result / num_samples)\n",
        "    else: result /= num_samples\n",
        "    print(f'final {loss_name}: {result}')\n"
      ],
      "metadata": {
        "id": "PNM1VOg9rkOR"
      },
      "execution_count": null,
      "outputs": []
    },
    {
      "cell_type": "markdown",
      "source": [
        "## Testcase"
      ],
      "metadata": {
        "id": "06ZLLGTs5IbY"
      }
    },
    {
      "cell_type": "code",
      "source": [
        "num_samples = input()\n",
        "loss_name = input()\n",
        "compute_loss(num_samples, loss_name)"
      ],
      "metadata": {
        "colab": {
          "base_uri": "https://localhost:8080/"
        },
        "id": "YMmOCE2P1YUj",
        "outputId": "f51081a2-c088-4298-f3e0-fb5b1cc40667"
      },
      "execution_count": null,
      "outputs": [
        {
          "output_type": "stream",
          "name": "stdout",
          "text": [
            "5\n",
            "RMSE\n",
            "loss name : RMSE, sample: 0, pred: 5.442614631814836, target: 7.3852995359247355, loss: 3.77402463665649\n",
            "loss name : RMSE, sample: 1, pred: 4.525268158229736, target: 5.237528660111932, loss: 0.5073150225414789\n",
            "loss name : RMSE, sample: 2, pred: 9.69612653964283, target: 8.817974004516286, loss: 0.7711518749491761\n",
            "loss name : RMSE, sample: 3, pred: 4.874074318201447, target: 1.2537599894025697, loss: 13.106675839306464\n",
            "loss name : RMSE, sample: 4, pred: 6.911429959789007, target: 4.899176329843712, loss: 4.049164671228017\n",
            "final RMSE: 2.107526134816915\n"
          ]
        }
      ]
    },
    {
      "cell_type": "markdown",
      "source": [
        "# Question 4\n",
        "\n",
        "\n"
      ],
      "metadata": {
        "id": "dF7y8BhV6aPY"
      }
    },
    {
      "cell_type": "code",
      "source": [
        "def approx_sin(x, n):\n",
        "  result = 0\n",
        "  for i in range(n):\n",
        "    result += ((-1) ** i) * (x ** (2 * i + 1) / math.factorial(2 * i + 1))\n",
        "  return result\n",
        "\n",
        "def approx_cos(x, n):\n",
        "  result = 0\n",
        "  for i in range(n):\n",
        "    result += ((-1) ** i) * (x ** (2 * i) / math.factorial(2 * i))\n",
        "  return result\n",
        "\n",
        "def approx_sinh(x, n):\n",
        "  result = 0\n",
        "  for i in range(n):\n",
        "    result += (x ** (2 * i + 1) / math.factorial(2 * i + 1))\n",
        "  return result\n",
        "\n",
        "def approx_cosh(x, n):\n",
        "  result = 0\n",
        "  for i in range(n):\n",
        "    result += (x ** (2 * i) / math.factorial(2 * i))\n",
        "  return result"
      ],
      "metadata": {
        "id": "P5_0CdxQrkTf"
      },
      "execution_count": null,
      "outputs": []
    },
    {
      "cell_type": "markdown",
      "source": [
        "## Testcase"
      ],
      "metadata": {
        "id": "dokrCRlTD4Z6"
      }
    },
    {
      "cell_type": "code",
      "source": [
        "print(approx_sin(x = 3.14, n = 10))\n",
        "print(approx_cos(x = 3.14, n = 10))\n",
        "print(approx_sinh(x = 3.14, n = 10))\n",
        "print(approx_cosh(x = 3.14, n = 10))"
      ],
      "metadata": {
        "colab": {
          "base_uri": "https://localhost:8080/"
        },
        "id": "tIyKKjgerkWK",
        "outputId": "a37d7ee3-8360-46b2-bb2c-60ddd08d73ba"
      },
      "execution_count": null,
      "outputs": [
        {
          "output_type": "stream",
          "name": "stdout",
          "text": [
            "0.001592652393160744\n",
            "-0.9999987352210833\n",
            "11.530292029865986\n",
            "11.573574824666185\n"
          ]
        }
      ]
    },
    {
      "cell_type": "markdown",
      "source": [
        "# Question 5"
      ],
      "metadata": {
        "id": "oe7h4BoXD91E"
      }
    },
    {
      "cell_type": "code",
      "source": [
        "def md_nre_single_sample(y, y_hat, n, p):\n",
        "  result = (y ** (1/n) - y_hat ** (1/n)) ** p\n",
        "  print(result)"
      ],
      "metadata": {
        "id": "Eorwa24wrkZs"
      },
      "execution_count": 5,
      "outputs": []
    },
    {
      "cell_type": "markdown",
      "source": [
        "## Testcase"
      ],
      "metadata": {
        "id": "rH54N3XBgjUu"
      }
    },
    {
      "cell_type": "code",
      "source": [
        "md_nre_single_sample(100, 99.5, 2, 1)\n",
        "md_nre_single_sample(50, 49.5, 2, 1)\n",
        "md_nre_single_sample(20, 19.5, 2, 1)\n",
        "md_nre_single_sample(0.6, 0.1, 2, 1)"
      ],
      "metadata": {
        "id": "KDlsbi6lD_2T",
        "colab": {
          "base_uri": "https://localhost:8080/"
        },
        "outputId": "3cd305eb-3342-4636-c285-7b3c7543c36d"
      },
      "execution_count": 6,
      "outputs": [
        {
          "output_type": "stream",
          "name": "stdout",
          "text": [
            "0.025031328369998107\n",
            "0.03544417213033135\n",
            "0.05625552183565574\n",
            "0.45836890322464546\n"
          ]
        }
      ]
    }
  ]
}